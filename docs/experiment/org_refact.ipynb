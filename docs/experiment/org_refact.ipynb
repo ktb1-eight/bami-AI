{
 "cells": [
  {
   "cell_type": "markdown",
   "metadata": {},
   "source": [
    "# Import Library"
   ]
  },
  {
   "cell_type": "code",
   "execution_count": 1,
   "metadata": {},
   "outputs": [
    {
     "name": "stdout",
     "output_type": "stream",
     "text": [
      "time: 0 ns (started: 2024-08-03 02:13:59 +09:00)\n"
     ]
    }
   ],
   "source": [
    "from tqdm import tqdm\n",
    "import time\n",
    "import joblib\n",
    "import warnings\n",
    "import os\n",
    "\n",
    "import numpy as np\n",
    "import pandas as pd\n",
    "\n",
    "from sklearn.model_selection import StratifiedKFold\n",
    "from catboost import CatBoostRegressor\n",
    "\n",
    "warnings.filterwarnings('ignore')\n",
    "pd.set_option('display.max_columns', None)\n",
    "\n",
    "%reload_ext autotime"
   ]
  },
  {
   "cell_type": "markdown",
   "metadata": {},
   "source": [
    "# Load Data"
   ]
  },
  {
   "cell_type": "code",
   "execution_count": 2,
   "metadata": {},
   "outputs": [
    {
     "name": "stdout",
     "output_type": "stream",
     "text": [
      "time: 344 ms (started: 2024-08-03 02:13:59 +09:00)\n"
     ]
    }
   ],
   "source": [
    "# 기본 경로 설정\n",
    "base_path = './bami/data/total/'\n",
    "\n",
    "# 파일명 리스트\n",
    "file_names = ['방문지정보.csv', '여행.csv', '여행객 Master.csv']\n",
    "\n",
    "# 데이터프레임 딕셔너리에 로드\n",
    "dataframes = {file_name: pd.read_csv(os.path.join(base_path, file_name)) for file_name in file_names}\n",
    "\n",
    "# 각각의 데이터프레임 할당\n",
    "visit_area_info = dataframes['방문지정보.csv']\n",
    "travel = dataframes['여행.csv']\n",
    "traveler_master = dataframes['여행객 Master.csv']"
   ]
  },
  {
   "cell_type": "markdown",
   "metadata": {},
   "source": [
    "# Preprocessing"
   ]
  },
  {
   "cell_type": "markdown",
   "metadata": {},
   "source": [
    "## visit_area_info 방문지 정보"
   ]
  },
  {
   "cell_type": "code",
   "execution_count": 3,
   "metadata": {},
   "outputs": [
    {
     "data": {
      "text/html": [
       "<div>\n",
       "<style scoped>\n",
       "    .dataframe tbody tr th:only-of-type {\n",
       "        vertical-align: middle;\n",
       "    }\n",
       "\n",
       "    .dataframe tbody tr th {\n",
       "        vertical-align: top;\n",
       "    }\n",
       "\n",
       "    .dataframe thead th {\n",
       "        text-align: right;\n",
       "    }\n",
       "</style>\n",
       "<table border=\"1\" class=\"dataframe\">\n",
       "  <thead>\n",
       "    <tr style=\"text-align: right;\">\n",
       "      <th></th>\n",
       "      <th>VISIT_AREA_ID</th>\n",
       "      <th>TRAVEL_ID</th>\n",
       "      <th>VISIT_ORDER</th>\n",
       "      <th>VISIT_AREA_NM</th>\n",
       "      <th>VISIT_START_YMD</th>\n",
       "      <th>VISIT_END_YMD</th>\n",
       "      <th>ROAD_NM_ADDR</th>\n",
       "      <th>LOTNO_ADDR</th>\n",
       "      <th>X_COORD</th>\n",
       "      <th>Y_COORD</th>\n",
       "      <th>ROAD_NM_CD</th>\n",
       "      <th>LOTNO_CD</th>\n",
       "      <th>POI_ID</th>\n",
       "      <th>POI_NM</th>\n",
       "      <th>RESIDENCE_TIME_MIN</th>\n",
       "      <th>VISIT_AREA_TYPE_CD</th>\n",
       "      <th>REVISIT_YN</th>\n",
       "      <th>VISIT_CHC_REASON_CD</th>\n",
       "      <th>LODGING_TYPE_CD</th>\n",
       "      <th>DGSTFN</th>\n",
       "      <th>REVISIT_INTENTION</th>\n",
       "      <th>RCMDTN_INTENTION</th>\n",
       "      <th>SGG_CD</th>\n",
       "      <th>region</th>\n",
       "    </tr>\n",
       "  </thead>\n",
       "  <tbody>\n",
       "    <tr>\n",
       "      <th>0</th>\n",
       "      <td>2304300002</td>\n",
       "      <td>e_e000004</td>\n",
       "      <td>2</td>\n",
       "      <td>화성 관광열차 안내소 연무대 매표소</td>\n",
       "      <td>2023-04-30</td>\n",
       "      <td>2023-04-30</td>\n",
       "      <td>경기 수원시 팔달구 창룡대로103번길 20</td>\n",
       "      <td>경기 수원시 팔달구 매향동 3-32</td>\n",
       "      <td>127.023339</td>\n",
       "      <td>37.287878</td>\n",
       "      <td>NaN</td>\n",
       "      <td>NaN</td>\n",
       "      <td>POI01000000ALZU7R</td>\n",
       "      <td>동대문종합시장 악세서리부자재시장</td>\n",
       "      <td>60.0</td>\n",
       "      <td>2</td>\n",
       "      <td>N</td>\n",
       "      <td>10.0</td>\n",
       "      <td>NaN</td>\n",
       "      <td>4.0</td>\n",
       "      <td>3.0</td>\n",
       "      <td>4.0</td>\n",
       "      <td>NaN</td>\n",
       "      <td>capital</td>\n",
       "    </tr>\n",
       "    <tr>\n",
       "      <th>1</th>\n",
       "      <td>2304300003</td>\n",
       "      <td>e_e000004</td>\n",
       "      <td>3</td>\n",
       "      <td>창룡문</td>\n",
       "      <td>2023-04-30</td>\n",
       "      <td>2023-04-30</td>\n",
       "      <td>NaN</td>\n",
       "      <td>경기 수원시 팔달구 남수동</td>\n",
       "      <td>127.025143</td>\n",
       "      <td>37.287791</td>\n",
       "      <td>NaN</td>\n",
       "      <td>NaN</td>\n",
       "      <td>POI010000006N1USC</td>\n",
       "      <td>창룡문</td>\n",
       "      <td>30.0</td>\n",
       "      <td>2</td>\n",
       "      <td>N</td>\n",
       "      <td>1.0</td>\n",
       "      <td>NaN</td>\n",
       "      <td>4.0</td>\n",
       "      <td>4.0</td>\n",
       "      <td>4.0</td>\n",
       "      <td>NaN</td>\n",
       "      <td>capital</td>\n",
       "    </tr>\n",
       "    <tr>\n",
       "      <th>2</th>\n",
       "      <td>2304300004</td>\n",
       "      <td>e_e000004</td>\n",
       "      <td>4</td>\n",
       "      <td>수원 화성 화홍문</td>\n",
       "      <td>2023-04-30</td>\n",
       "      <td>2023-04-30</td>\n",
       "      <td>NaN</td>\n",
       "      <td>경기 수원시 팔달구 북수동 9000-1</td>\n",
       "      <td>127.017626</td>\n",
       "      <td>37.287546</td>\n",
       "      <td>NaN</td>\n",
       "      <td>NaN</td>\n",
       "      <td>POI01000TR021821V</td>\n",
       "      <td>수원화성 화홍문</td>\n",
       "      <td>60.0</td>\n",
       "      <td>2</td>\n",
       "      <td>N</td>\n",
       "      <td>10.0</td>\n",
       "      <td>NaN</td>\n",
       "      <td>4.0</td>\n",
       "      <td>3.0</td>\n",
       "      <td>3.0</td>\n",
       "      <td>NaN</td>\n",
       "      <td>capital</td>\n",
       "    </tr>\n",
       "    <tr>\n",
       "      <th>3</th>\n",
       "      <td>2304300004</td>\n",
       "      <td>e_e000006</td>\n",
       "      <td>4</td>\n",
       "      <td>경춘선 자전거길</td>\n",
       "      <td>2023-04-30</td>\n",
       "      <td>2023-04-30</td>\n",
       "      <td>NaN</td>\n",
       "      <td>경기 가평군 청평면 하천리 158-2</td>\n",
       "      <td>127.436200</td>\n",
       "      <td>37.745958</td>\n",
       "      <td>NaN</td>\n",
       "      <td>NaN</td>\n",
       "      <td>POI01000TR008470V</td>\n",
       "      <td>경춘선자전거길</td>\n",
       "      <td>150.0</td>\n",
       "      <td>1</td>\n",
       "      <td>Y</td>\n",
       "      <td>4.0</td>\n",
       "      <td>NaN</td>\n",
       "      <td>5.0</td>\n",
       "      <td>5.0</td>\n",
       "      <td>5.0</td>\n",
       "      <td>NaN</td>\n",
       "      <td>capital</td>\n",
       "    </tr>\n",
       "    <tr>\n",
       "      <th>4</th>\n",
       "      <td>2304290002</td>\n",
       "      <td>e_e000009</td>\n",
       "      <td>2</td>\n",
       "      <td>농협안성팜랜드</td>\n",
       "      <td>2023-04-29</td>\n",
       "      <td>2023-04-29</td>\n",
       "      <td>경기 안성시 공도읍 대신두길 28</td>\n",
       "      <td>경기 안성시 공도읍 신두리 451</td>\n",
       "      <td>127.193517</td>\n",
       "      <td>36.991317</td>\n",
       "      <td>NaN</td>\n",
       "      <td>NaN</td>\n",
       "      <td>POI01000000E66UWC</td>\n",
       "      <td>안성팜랜드</td>\n",
       "      <td>30.0</td>\n",
       "      <td>6</td>\n",
       "      <td>N</td>\n",
       "      <td>1.0</td>\n",
       "      <td>NaN</td>\n",
       "      <td>4.0</td>\n",
       "      <td>4.0</td>\n",
       "      <td>4.0</td>\n",
       "      <td>NaN</td>\n",
       "      <td>capital</td>\n",
       "    </tr>\n",
       "  </tbody>\n",
       "</table>\n",
       "</div>"
      ],
      "text/plain": [
       "   VISIT_AREA_ID  TRAVEL_ID  VISIT_ORDER        VISIT_AREA_NM VISIT_START_YMD  \\\n",
       "0     2304300002  e_e000004            2  화성 관광열차 안내소 연무대 매표소      2023-04-30   \n",
       "1     2304300003  e_e000004            3                  창룡문      2023-04-30   \n",
       "2     2304300004  e_e000004            4            수원 화성 화홍문      2023-04-30   \n",
       "3     2304300004  e_e000006            4             경춘선 자전거길      2023-04-30   \n",
       "4     2304290002  e_e000009            2              농협안성팜랜드      2023-04-29   \n",
       "\n",
       "  VISIT_END_YMD             ROAD_NM_ADDR             LOTNO_ADDR     X_COORD  \\\n",
       "0    2023-04-30  경기 수원시 팔달구 창룡대로103번길 20    경기 수원시 팔달구 매향동 3-32  127.023339   \n",
       "1    2023-04-30                      NaN         경기 수원시 팔달구 남수동  127.025143   \n",
       "2    2023-04-30                      NaN  경기 수원시 팔달구 북수동 9000-1  127.017626   \n",
       "3    2023-04-30                      NaN   경기 가평군 청평면 하천리 158-2  127.436200   \n",
       "4    2023-04-29       경기 안성시 공도읍 대신두길 28     경기 안성시 공도읍 신두리 451  127.193517   \n",
       "\n",
       "     Y_COORD  ROAD_NM_CD  LOTNO_CD             POI_ID             POI_NM  \\\n",
       "0  37.287878         NaN       NaN  POI01000000ALZU7R  동대문종합시장 악세서리부자재시장   \n",
       "1  37.287791         NaN       NaN  POI010000006N1USC                창룡문   \n",
       "2  37.287546         NaN       NaN  POI01000TR021821V           수원화성 화홍문   \n",
       "3  37.745958         NaN       NaN  POI01000TR008470V            경춘선자전거길   \n",
       "4  36.991317         NaN       NaN  POI01000000E66UWC              안성팜랜드   \n",
       "\n",
       "   RESIDENCE_TIME_MIN  VISIT_AREA_TYPE_CD REVISIT_YN  VISIT_CHC_REASON_CD  \\\n",
       "0                60.0                   2          N                 10.0   \n",
       "1                30.0                   2          N                  1.0   \n",
       "2                60.0                   2          N                 10.0   \n",
       "3               150.0                   1          Y                  4.0   \n",
       "4                30.0                   6          N                  1.0   \n",
       "\n",
       "   LODGING_TYPE_CD  DGSTFN  REVISIT_INTENTION  RCMDTN_INTENTION  SGG_CD  \\\n",
       "0              NaN     4.0                3.0               4.0     NaN   \n",
       "1              NaN     4.0                4.0               4.0     NaN   \n",
       "2              NaN     4.0                3.0               3.0     NaN   \n",
       "3              NaN     5.0                5.0               5.0     NaN   \n",
       "4              NaN     4.0                4.0               4.0     NaN   \n",
       "\n",
       "    region  \n",
       "0  capital  \n",
       "1  capital  \n",
       "2  capital  \n",
       "3  capital  \n",
       "4  capital  "
      ]
     },
     "execution_count": 3,
     "metadata": {},
     "output_type": "execute_result"
    },
    {
     "name": "stdout",
     "output_type": "stream",
     "text": [
      "time: 47 ms (started: 2024-08-03 02:13:59 +09:00)\n"
     ]
    }
   ],
   "source": [
    "# 관광지 선택\n",
    "# 자연관광지, 역사/유적/종교 시설(문화재, 박물관, 촬영지, 절 등), 문화 시설(공연장, 영화관, 전시관 등), 상업지구(거리, 시장, 쇼핑시설)\n",
    "# 레저/스포츠 관련 시설(스키, 카트, 수상레저), 테마시설(놀이공원, 워터파크), 산책로, 둘레길 등, 지역 축제/행사\n",
    "visit_area_info = visit_area_info.loc[visit_area_info['VISIT_AREA_TYPE_CD'].between(1, 8)]\n",
    "\n",
    "# LOTNO_ADDR (지번주소) 열에 결측값이 있는 행 제거 후 인덱스 재설정\n",
    "# ex) 경기 수원시 팔달구 매향동 3-32\n",
    "visit_area_info = visit_area_info.dropna(subset=['LOTNO_ADDR']).reset_index(drop=True)\n",
    "\n",
    "# 데이터 확인\n",
    "visit_area_info.head()"
   ]
  },
  {
   "cell_type": "code",
   "execution_count": 4,
   "metadata": {},
   "outputs": [
    {
     "name": "stdout",
     "output_type": "stream",
     "text": [
      "time: 16 ms (started: 2024-08-03 02:13:59 +09:00)\n"
     ]
    }
   ],
   "source": [
    "# 시도/군구 변수 생성\n",
    "visit_area_info['SIDO'] = visit_area_info['LOTNO_ADDR'].apply(lambda x: x.split(' ')[0])\n",
    "visit_area_info['GUNGU'] = visit_area_info['LOTNO_ADDR'].apply(lambda x: x.split(' ')[1])"
   ]
  },
  {
   "cell_type": "code",
   "execution_count": 5,
   "metadata": {},
   "outputs": [
    {
     "data": {
      "text/plain": [
       "SIDO\n",
       "경기         3232\n",
       "서울         2328\n",
       "경북         2223\n",
       "전북         1719\n",
       "충남         1688\n",
       "강원특별자치도    1662\n",
       "전남         1660\n",
       "부산         1552\n",
       "강원         1178\n",
       "대전         1143\n",
       "충북         1124\n",
       "경남         1028\n",
       "인천          571\n",
       "대구          441\n",
       "광주          295\n",
       "울산          273\n",
       "세종특별자치시     218\n",
       "강원도           5\n",
       "경상북도          4\n",
       "전라북도          3\n",
       "경기도           3\n",
       "부산광역시         3\n",
       "충청남도          3\n",
       "전라남도          2\n",
       "충청북도          2\n",
       "서울특별시         1\n",
       "경상남도          1\n",
       "Name: count, dtype: int64"
      ]
     },
     "execution_count": 5,
     "metadata": {},
     "output_type": "execute_result"
    },
    {
     "name": "stdout",
     "output_type": "stream",
     "text": [
      "time: 0 ns (started: 2024-08-03 02:13:59 +09:00)\n"
     ]
    }
   ],
   "source": [
    "visit_area_info['SIDO'].value_counts()"
   ]
  },
  {
   "cell_type": "markdown",
   "metadata": {},
   "source": [
    "### 변수 선택\n",
    "- TRAVEL_ID: 여행 ID\n",
    "- VISIT_AREA_NM: 방문 장소 이름\n",
    "- SIDO: 시/도\n",
    "- GUNGU: 군/구\n",
    "- VISIT_AREA_TYPE_CD: 관광 장소 유형\n",
    "- DGSTFN: 만족도\n",
    "- REVISIT_INTENTION: 재방문의향\n",
    "- RCMDTN_INTENTION: 추천의향\n",
    "- RESIDENCE_TIME_MIN: 체류시간분\n",
    "- REVISIT_YN: 재방문여부"
   ]
  },
  {
   "cell_type": "code",
   "execution_count": 6,
   "metadata": {},
   "outputs": [
    {
     "data": {
      "text/html": [
       "<div>\n",
       "<style scoped>\n",
       "    .dataframe tbody tr th:only-of-type {\n",
       "        vertical-align: middle;\n",
       "    }\n",
       "\n",
       "    .dataframe tbody tr th {\n",
       "        vertical-align: top;\n",
       "    }\n",
       "\n",
       "    .dataframe thead th {\n",
       "        text-align: right;\n",
       "    }\n",
       "</style>\n",
       "<table border=\"1\" class=\"dataframe\">\n",
       "  <thead>\n",
       "    <tr style=\"text-align: right;\">\n",
       "      <th></th>\n",
       "      <th>TRAVEL_ID</th>\n",
       "      <th>VISIT_AREA_NM</th>\n",
       "      <th>SIDO</th>\n",
       "      <th>GUNGU</th>\n",
       "      <th>VISIT_AREA_TYPE_CD</th>\n",
       "      <th>DGSTFN</th>\n",
       "      <th>REVISIT_INTENTION</th>\n",
       "      <th>RCMDTN_INTENTION</th>\n",
       "      <th>RESIDENCE_TIME_MIN</th>\n",
       "      <th>REVISIT_YN</th>\n",
       "    </tr>\n",
       "  </thead>\n",
       "  <tbody>\n",
       "    <tr>\n",
       "      <th>0</th>\n",
       "      <td>e_e000004</td>\n",
       "      <td>화성 관광열차 안내소 연무대 매표소</td>\n",
       "      <td>경기</td>\n",
       "      <td>수원시</td>\n",
       "      <td>2</td>\n",
       "      <td>4.0</td>\n",
       "      <td>3.0</td>\n",
       "      <td>4.0</td>\n",
       "      <td>60.0</td>\n",
       "      <td>N</td>\n",
       "    </tr>\n",
       "    <tr>\n",
       "      <th>1</th>\n",
       "      <td>e_e000004</td>\n",
       "      <td>창룡문</td>\n",
       "      <td>경기</td>\n",
       "      <td>수원시</td>\n",
       "      <td>2</td>\n",
       "      <td>4.0</td>\n",
       "      <td>4.0</td>\n",
       "      <td>4.0</td>\n",
       "      <td>30.0</td>\n",
       "      <td>N</td>\n",
       "    </tr>\n",
       "    <tr>\n",
       "      <th>2</th>\n",
       "      <td>e_e000004</td>\n",
       "      <td>수원 화성 화홍문</td>\n",
       "      <td>경기</td>\n",
       "      <td>수원시</td>\n",
       "      <td>2</td>\n",
       "      <td>4.0</td>\n",
       "      <td>3.0</td>\n",
       "      <td>3.0</td>\n",
       "      <td>60.0</td>\n",
       "      <td>N</td>\n",
       "    </tr>\n",
       "    <tr>\n",
       "      <th>3</th>\n",
       "      <td>e_e000006</td>\n",
       "      <td>경춘선 자전거길</td>\n",
       "      <td>경기</td>\n",
       "      <td>가평군</td>\n",
       "      <td>1</td>\n",
       "      <td>5.0</td>\n",
       "      <td>5.0</td>\n",
       "      <td>5.0</td>\n",
       "      <td>150.0</td>\n",
       "      <td>Y</td>\n",
       "    </tr>\n",
       "    <tr>\n",
       "      <th>4</th>\n",
       "      <td>e_e000009</td>\n",
       "      <td>농협안성팜랜드</td>\n",
       "      <td>경기</td>\n",
       "      <td>안성시</td>\n",
       "      <td>6</td>\n",
       "      <td>4.0</td>\n",
       "      <td>4.0</td>\n",
       "      <td>4.0</td>\n",
       "      <td>30.0</td>\n",
       "      <td>N</td>\n",
       "    </tr>\n",
       "  </tbody>\n",
       "</table>\n",
       "</div>"
      ],
      "text/plain": [
       "   TRAVEL_ID        VISIT_AREA_NM SIDO GUNGU  VISIT_AREA_TYPE_CD  DGSTFN  \\\n",
       "0  e_e000004  화성 관광열차 안내소 연무대 매표소   경기   수원시                   2     4.0   \n",
       "1  e_e000004                  창룡문   경기   수원시                   2     4.0   \n",
       "2  e_e000004            수원 화성 화홍문   경기   수원시                   2     4.0   \n",
       "3  e_e000006             경춘선 자전거길   경기   가평군                   1     5.0   \n",
       "4  e_e000009              농협안성팜랜드   경기   안성시                   6     4.0   \n",
       "\n",
       "   REVISIT_INTENTION  RCMDTN_INTENTION  RESIDENCE_TIME_MIN REVISIT_YN  \n",
       "0                3.0               4.0                60.0          N  \n",
       "1                4.0               4.0                30.0          N  \n",
       "2                3.0               3.0                60.0          N  \n",
       "3                5.0               5.0               150.0          Y  \n",
       "4                4.0               4.0                30.0          N  "
      ]
     },
     "execution_count": 6,
     "metadata": {},
     "output_type": "execute_result"
    },
    {
     "name": "stdout",
     "output_type": "stream",
     "text": [
      "time: 0 ns (started: 2024-08-03 02:13:59 +09:00)\n"
     ]
    }
   ],
   "source": [
    "visit_area_info = visit_area_info[['TRAVEL_ID', 'VISIT_AREA_NM', 'SIDO', 'GUNGU', 'VISIT_AREA_TYPE_CD', 'DGSTFN',\n",
    "                                   'REVISIT_INTENTION', 'RCMDTN_INTENTION', 'RESIDENCE_TIME_MIN', 'REVISIT_YN']]\n",
    "\n",
    "visit_area_info.head()"
   ]
  },
  {
   "cell_type": "markdown",
   "metadata": {},
   "source": [
    "## travel 여행 정보"
   ]
  },
  {
   "cell_type": "code",
   "execution_count": 7,
   "metadata": {},
   "outputs": [
    {
     "name": "stdout",
     "output_type": "stream",
     "text": [
      "time: 0 ns (started: 2024-08-03 02:13:59 +09:00)\n"
     ]
    }
   ],
   "source": [
    "# TRAVEL_MISSION_CHECK (미션 우선도)의 첫번째 항목 가져오기\n",
    "travel['TRAVEL_MISSION_PRIORITY'] = travel['TRAVEL_MISSION_CHECK'].str.split(';').apply(lambda x: x[0])"
   ]
  },
  {
   "cell_type": "markdown",
   "metadata": {},
   "source": [
    "### 변수 선택\n",
    "- TRAVEL_ID: 여행 ID\n",
    "- TRAVELER_ID: 여행자 ID\n",
    "- TRAVEL_MISSION_PRIORITY: 개별 미션 우선도 중 첫 번째"
   ]
  },
  {
   "cell_type": "code",
   "execution_count": 8,
   "metadata": {},
   "outputs": [
    {
     "name": "stdout",
     "output_type": "stream",
     "text": [
      "time: 0 ns (started: 2024-08-03 02:13:59 +09:00)\n"
     ]
    }
   ],
   "source": [
    "travel = travel[['TRAVEL_ID', 'TRAVELER_ID', 'TRAVEL_MISSION_PRIORITY']]"
   ]
  },
  {
   "cell_type": "markdown",
   "metadata": {},
   "source": [
    "## traveler_master 여행자 정보"
   ]
  },
  {
   "cell_type": "markdown",
   "metadata": {},
   "source": [
    "### 변수 선택\n",
    "- TRAVELER_ID: 여행자 ID\n",
    "- GENDER: 성별\n",
    "- AGE_GRP: 연령대\n",
    "- INCOME: 소득\n",
    "- TRAVEL_STYL_{N}: 여행 스타일\n",
    "- TRAVEL_MOTIVE_1: 여행 동기 (2, 3은 결측치가 있어서 제외)\n",
    "- TRAVEL_NUM: 여행빈도\n",
    "- TRAVEL_COMPANIONS_NUM: 동반자 수"
   ]
  },
  {
   "cell_type": "code",
   "execution_count": 9,
   "metadata": {},
   "outputs": [
    {
     "name": "stdout",
     "output_type": "stream",
     "text": [
      "time: 0 ns (started: 2024-08-03 02:13:59 +09:00)\n"
     ]
    }
   ],
   "source": [
    "columns_needed = [\n",
    "    'TRAVELER_ID', 'GENDER', 'AGE_GRP', 'INCOME', 'TRAVEL_STYL_1',\n",
    "    'TRAVEL_STYL_2', 'TRAVEL_STYL_3', 'TRAVEL_STYL_4', 'TRAVEL_STYL_5',\n",
    "    'TRAVEL_STYL_6', 'TRAVEL_STYL_7', 'TRAVEL_STYL_8',\n",
    "    'TRAVEL_MOTIVE_1', 'TRAVEL_NUM', 'TRAVEL_COMPANIONS_NUM'\n",
    "]\n",
    "\n",
    "# 필요한 열만 선택하여 데이터프레임 생성\n",
    "traveler_master = traveler_master[columns_needed]"
   ]
  },
  {
   "cell_type": "markdown",
   "metadata": {},
   "source": [
    "## 데이터프레임 합치기 "
   ]
  },
  {
   "cell_type": "code",
   "execution_count": 10,
   "metadata": {},
   "outputs": [
    {
     "name": "stdout",
     "output_type": "stream",
     "text": [
      "time: 31 ms (started: 2024-08-03 02:13:59 +09:00)\n"
     ]
    }
   ],
   "source": [
    "# 먼저 travel과 traveler_master 데이터를 병합\n",
    "merged_travel_data = pd.merge(travel, traveler_master, on='TRAVELER_ID', how='inner')\n",
    "\n",
    "# visit_area_info 데이터와 병합\n",
    "df = pd.merge(visit_area_info, merged_travel_data, on='TRAVEL_ID', how='right')"
   ]
  },
  {
   "cell_type": "code",
   "execution_count": 11,
   "metadata": {},
   "outputs": [
    {
     "data": {
      "text/html": [
       "<div>\n",
       "<style scoped>\n",
       "    .dataframe tbody tr th:only-of-type {\n",
       "        vertical-align: middle;\n",
       "    }\n",
       "\n",
       "    .dataframe tbody tr th {\n",
       "        vertical-align: top;\n",
       "    }\n",
       "\n",
       "    .dataframe thead th {\n",
       "        text-align: right;\n",
       "    }\n",
       "</style>\n",
       "<table border=\"1\" class=\"dataframe\">\n",
       "  <thead>\n",
       "    <tr style=\"text-align: right;\">\n",
       "      <th></th>\n",
       "      <th>TRAVEL_ID</th>\n",
       "      <th>VISIT_AREA_NM</th>\n",
       "      <th>SIDO</th>\n",
       "      <th>GUNGU</th>\n",
       "      <th>VISIT_AREA_TYPE_CD</th>\n",
       "      <th>DGSTFN</th>\n",
       "      <th>REVISIT_INTENTION</th>\n",
       "      <th>RCMDTN_INTENTION</th>\n",
       "      <th>RESIDENCE_TIME_MIN</th>\n",
       "      <th>REVISIT_YN</th>\n",
       "      <th>TRAVELER_ID</th>\n",
       "      <th>TRAVEL_MISSION_PRIORITY</th>\n",
       "      <th>GENDER</th>\n",
       "      <th>AGE_GRP</th>\n",
       "      <th>INCOME</th>\n",
       "      <th>TRAVEL_STYL_1</th>\n",
       "      <th>TRAVEL_STYL_2</th>\n",
       "      <th>TRAVEL_STYL_3</th>\n",
       "      <th>TRAVEL_STYL_4</th>\n",
       "      <th>TRAVEL_STYL_5</th>\n",
       "      <th>TRAVEL_STYL_6</th>\n",
       "      <th>TRAVEL_STYL_7</th>\n",
       "      <th>TRAVEL_STYL_8</th>\n",
       "      <th>TRAVEL_MOTIVE_1</th>\n",
       "      <th>TRAVEL_NUM</th>\n",
       "      <th>TRAVEL_COMPANIONS_NUM</th>\n",
       "    </tr>\n",
       "  </thead>\n",
       "  <tbody>\n",
       "    <tr>\n",
       "      <th>0</th>\n",
       "      <td>e_e000004</td>\n",
       "      <td>화성 관광열차 안내소 연무대 매표소</td>\n",
       "      <td>경기</td>\n",
       "      <td>수원시</td>\n",
       "      <td>2.0</td>\n",
       "      <td>4.0</td>\n",
       "      <td>3.0</td>\n",
       "      <td>4.0</td>\n",
       "      <td>60.0</td>\n",
       "      <td>N</td>\n",
       "      <td>e000004</td>\n",
       "      <td>3</td>\n",
       "      <td>남</td>\n",
       "      <td>40</td>\n",
       "      <td>7</td>\n",
       "      <td>5</td>\n",
       "      <td>3</td>\n",
       "      <td>5</td>\n",
       "      <td>4</td>\n",
       "      <td>5</td>\n",
       "      <td>4</td>\n",
       "      <td>2</td>\n",
       "      <td>5</td>\n",
       "      <td>1</td>\n",
       "      <td>1</td>\n",
       "      <td>2</td>\n",
       "    </tr>\n",
       "    <tr>\n",
       "      <th>1</th>\n",
       "      <td>e_e000004</td>\n",
       "      <td>창룡문</td>\n",
       "      <td>경기</td>\n",
       "      <td>수원시</td>\n",
       "      <td>2.0</td>\n",
       "      <td>4.0</td>\n",
       "      <td>4.0</td>\n",
       "      <td>4.0</td>\n",
       "      <td>30.0</td>\n",
       "      <td>N</td>\n",
       "      <td>e000004</td>\n",
       "      <td>3</td>\n",
       "      <td>남</td>\n",
       "      <td>40</td>\n",
       "      <td>7</td>\n",
       "      <td>5</td>\n",
       "      <td>3</td>\n",
       "      <td>5</td>\n",
       "      <td>4</td>\n",
       "      <td>5</td>\n",
       "      <td>4</td>\n",
       "      <td>2</td>\n",
       "      <td>5</td>\n",
       "      <td>1</td>\n",
       "      <td>1</td>\n",
       "      <td>2</td>\n",
       "    </tr>\n",
       "    <tr>\n",
       "      <th>2</th>\n",
       "      <td>e_e000004</td>\n",
       "      <td>수원 화성 화홍문</td>\n",
       "      <td>경기</td>\n",
       "      <td>수원시</td>\n",
       "      <td>2.0</td>\n",
       "      <td>4.0</td>\n",
       "      <td>3.0</td>\n",
       "      <td>3.0</td>\n",
       "      <td>60.0</td>\n",
       "      <td>N</td>\n",
       "      <td>e000004</td>\n",
       "      <td>3</td>\n",
       "      <td>남</td>\n",
       "      <td>40</td>\n",
       "      <td>7</td>\n",
       "      <td>5</td>\n",
       "      <td>3</td>\n",
       "      <td>5</td>\n",
       "      <td>4</td>\n",
       "      <td>5</td>\n",
       "      <td>4</td>\n",
       "      <td>2</td>\n",
       "      <td>5</td>\n",
       "      <td>1</td>\n",
       "      <td>1</td>\n",
       "      <td>2</td>\n",
       "    </tr>\n",
       "    <tr>\n",
       "      <th>3</th>\n",
       "      <td>e_e000006</td>\n",
       "      <td>경춘선 자전거길</td>\n",
       "      <td>경기</td>\n",
       "      <td>가평군</td>\n",
       "      <td>1.0</td>\n",
       "      <td>5.0</td>\n",
       "      <td>5.0</td>\n",
       "      <td>5.0</td>\n",
       "      <td>150.0</td>\n",
       "      <td>Y</td>\n",
       "      <td>e000006</td>\n",
       "      <td>21</td>\n",
       "      <td>남</td>\n",
       "      <td>30</td>\n",
       "      <td>5</td>\n",
       "      <td>3</td>\n",
       "      <td>3</td>\n",
       "      <td>2</td>\n",
       "      <td>4</td>\n",
       "      <td>5</td>\n",
       "      <td>4</td>\n",
       "      <td>3</td>\n",
       "      <td>2</td>\n",
       "      <td>1</td>\n",
       "      <td>4</td>\n",
       "      <td>1</td>\n",
       "    </tr>\n",
       "    <tr>\n",
       "      <th>4</th>\n",
       "      <td>e_e000009</td>\n",
       "      <td>농협안성팜랜드</td>\n",
       "      <td>경기</td>\n",
       "      <td>안성시</td>\n",
       "      <td>6.0</td>\n",
       "      <td>4.0</td>\n",
       "      <td>4.0</td>\n",
       "      <td>4.0</td>\n",
       "      <td>30.0</td>\n",
       "      <td>N</td>\n",
       "      <td>e000009</td>\n",
       "      <td>22</td>\n",
       "      <td>여</td>\n",
       "      <td>30</td>\n",
       "      <td>4</td>\n",
       "      <td>3</td>\n",
       "      <td>2</td>\n",
       "      <td>3</td>\n",
       "      <td>3</td>\n",
       "      <td>2</td>\n",
       "      <td>6</td>\n",
       "      <td>4</td>\n",
       "      <td>7</td>\n",
       "      <td>3</td>\n",
       "      <td>1</td>\n",
       "      <td>1</td>\n",
       "    </tr>\n",
       "    <tr>\n",
       "      <th>...</th>\n",
       "      <td>...</td>\n",
       "      <td>...</td>\n",
       "      <td>...</td>\n",
       "      <td>...</td>\n",
       "      <td>...</td>\n",
       "      <td>...</td>\n",
       "      <td>...</td>\n",
       "      <td>...</td>\n",
       "      <td>...</td>\n",
       "      <td>...</td>\n",
       "      <td>...</td>\n",
       "      <td>...</td>\n",
       "      <td>...</td>\n",
       "      <td>...</td>\n",
       "      <td>...</td>\n",
       "      <td>...</td>\n",
       "      <td>...</td>\n",
       "      <td>...</td>\n",
       "      <td>...</td>\n",
       "      <td>...</td>\n",
       "      <td>...</td>\n",
       "      <td>...</td>\n",
       "      <td>...</td>\n",
       "      <td>...</td>\n",
       "      <td>...</td>\n",
       "      <td>...</td>\n",
       "    </tr>\n",
       "    <tr>\n",
       "      <th>22784</th>\n",
       "      <td>h_h001459</td>\n",
       "      <td>단양구경시장</td>\n",
       "      <td>충북</td>\n",
       "      <td>단양군</td>\n",
       "      <td>4.0</td>\n",
       "      <td>5.0</td>\n",
       "      <td>5.0</td>\n",
       "      <td>5.0</td>\n",
       "      <td>30.0</td>\n",
       "      <td>N</td>\n",
       "      <td>h001459</td>\n",
       "      <td>22</td>\n",
       "      <td>남</td>\n",
       "      <td>30</td>\n",
       "      <td>4</td>\n",
       "      <td>4</td>\n",
       "      <td>2</td>\n",
       "      <td>2</td>\n",
       "      <td>3</td>\n",
       "      <td>2</td>\n",
       "      <td>5</td>\n",
       "      <td>1</td>\n",
       "      <td>7</td>\n",
       "      <td>7</td>\n",
       "      <td>1</td>\n",
       "      <td>1</td>\n",
       "    </tr>\n",
       "    <tr>\n",
       "      <th>22785</th>\n",
       "      <td>h_h001459</td>\n",
       "      <td>도담삼봉</td>\n",
       "      <td>충북</td>\n",
       "      <td>단양군</td>\n",
       "      <td>1.0</td>\n",
       "      <td>5.0</td>\n",
       "      <td>5.0</td>\n",
       "      <td>5.0</td>\n",
       "      <td>30.0</td>\n",
       "      <td>N</td>\n",
       "      <td>h001459</td>\n",
       "      <td>22</td>\n",
       "      <td>남</td>\n",
       "      <td>30</td>\n",
       "      <td>4</td>\n",
       "      <td>4</td>\n",
       "      <td>2</td>\n",
       "      <td>2</td>\n",
       "      <td>3</td>\n",
       "      <td>2</td>\n",
       "      <td>5</td>\n",
       "      <td>1</td>\n",
       "      <td>7</td>\n",
       "      <td>7</td>\n",
       "      <td>1</td>\n",
       "      <td>1</td>\n",
       "    </tr>\n",
       "    <tr>\n",
       "      <th>22786</th>\n",
       "      <td>h_h003280</td>\n",
       "      <td>법주사</td>\n",
       "      <td>충북</td>\n",
       "      <td>보은군</td>\n",
       "      <td>2.0</td>\n",
       "      <td>5.0</td>\n",
       "      <td>5.0</td>\n",
       "      <td>5.0</td>\n",
       "      <td>90.0</td>\n",
       "      <td>N</td>\n",
       "      <td>h003280</td>\n",
       "      <td>3</td>\n",
       "      <td>여</td>\n",
       "      <td>40</td>\n",
       "      <td>5</td>\n",
       "      <td>1</td>\n",
       "      <td>4</td>\n",
       "      <td>4</td>\n",
       "      <td>4</td>\n",
       "      <td>4</td>\n",
       "      <td>4</td>\n",
       "      <td>4</td>\n",
       "      <td>4</td>\n",
       "      <td>4</td>\n",
       "      <td>1</td>\n",
       "      <td>0</td>\n",
       "    </tr>\n",
       "    <tr>\n",
       "      <th>22787</th>\n",
       "      <td>h_h003280</td>\n",
       "      <td>정이품송</td>\n",
       "      <td>충북</td>\n",
       "      <td>보은군</td>\n",
       "      <td>1.0</td>\n",
       "      <td>5.0</td>\n",
       "      <td>5.0</td>\n",
       "      <td>5.0</td>\n",
       "      <td>30.0</td>\n",
       "      <td>N</td>\n",
       "      <td>h003280</td>\n",
       "      <td>3</td>\n",
       "      <td>여</td>\n",
       "      <td>40</td>\n",
       "      <td>5</td>\n",
       "      <td>1</td>\n",
       "      <td>4</td>\n",
       "      <td>4</td>\n",
       "      <td>4</td>\n",
       "      <td>4</td>\n",
       "      <td>4</td>\n",
       "      <td>4</td>\n",
       "      <td>4</td>\n",
       "      <td>4</td>\n",
       "      <td>1</td>\n",
       "      <td>0</td>\n",
       "    </tr>\n",
       "    <tr>\n",
       "      <th>22788</th>\n",
       "      <td>h_h003280</td>\n",
       "      <td>문의 청남대 휴게소 청주 방향</td>\n",
       "      <td>충북</td>\n",
       "      <td>청주시</td>\n",
       "      <td>4.0</td>\n",
       "      <td>5.0</td>\n",
       "      <td>5.0</td>\n",
       "      <td>5.0</td>\n",
       "      <td>30.0</td>\n",
       "      <td>N</td>\n",
       "      <td>h003280</td>\n",
       "      <td>3</td>\n",
       "      <td>여</td>\n",
       "      <td>40</td>\n",
       "      <td>5</td>\n",
       "      <td>1</td>\n",
       "      <td>4</td>\n",
       "      <td>4</td>\n",
       "      <td>4</td>\n",
       "      <td>4</td>\n",
       "      <td>4</td>\n",
       "      <td>4</td>\n",
       "      <td>4</td>\n",
       "      <td>4</td>\n",
       "      <td>1</td>\n",
       "      <td>0</td>\n",
       "    </tr>\n",
       "  </tbody>\n",
       "</table>\n",
       "<p>22789 rows × 26 columns</p>\n",
       "</div>"
      ],
      "text/plain": [
       "       TRAVEL_ID        VISIT_AREA_NM SIDO GUNGU  VISIT_AREA_TYPE_CD  DGSTFN  \\\n",
       "0      e_e000004  화성 관광열차 안내소 연무대 매표소   경기   수원시                 2.0     4.0   \n",
       "1      e_e000004                  창룡문   경기   수원시                 2.0     4.0   \n",
       "2      e_e000004            수원 화성 화홍문   경기   수원시                 2.0     4.0   \n",
       "3      e_e000006             경춘선 자전거길   경기   가평군                 1.0     5.0   \n",
       "4      e_e000009              농협안성팜랜드   경기   안성시                 6.0     4.0   \n",
       "...          ...                  ...  ...   ...                 ...     ...   \n",
       "22784  h_h001459               단양구경시장   충북   단양군                 4.0     5.0   \n",
       "22785  h_h001459                 도담삼봉   충북   단양군                 1.0     5.0   \n",
       "22786  h_h003280                  법주사   충북   보은군                 2.0     5.0   \n",
       "22787  h_h003280                 정이품송   충북   보은군                 1.0     5.0   \n",
       "22788  h_h003280     문의 청남대 휴게소 청주 방향   충북   청주시                 4.0     5.0   \n",
       "\n",
       "       REVISIT_INTENTION  RCMDTN_INTENTION  RESIDENCE_TIME_MIN REVISIT_YN  \\\n",
       "0                    3.0               4.0                60.0          N   \n",
       "1                    4.0               4.0                30.0          N   \n",
       "2                    3.0               3.0                60.0          N   \n",
       "3                    5.0               5.0               150.0          Y   \n",
       "4                    4.0               4.0                30.0          N   \n",
       "...                  ...               ...                 ...        ...   \n",
       "22784                5.0               5.0                30.0          N   \n",
       "22785                5.0               5.0                30.0          N   \n",
       "22786                5.0               5.0                90.0          N   \n",
       "22787                5.0               5.0                30.0          N   \n",
       "22788                5.0               5.0                30.0          N   \n",
       "\n",
       "      TRAVELER_ID TRAVEL_MISSION_PRIORITY GENDER  AGE_GRP  INCOME  \\\n",
       "0         e000004                       3      남       40       7   \n",
       "1         e000004                       3      남       40       7   \n",
       "2         e000004                       3      남       40       7   \n",
       "3         e000006                      21      남       30       5   \n",
       "4         e000009                      22      여       30       4   \n",
       "...           ...                     ...    ...      ...     ...   \n",
       "22784     h001459                      22      남       30       4   \n",
       "22785     h001459                      22      남       30       4   \n",
       "22786     h003280                       3      여       40       5   \n",
       "22787     h003280                       3      여       40       5   \n",
       "22788     h003280                       3      여       40       5   \n",
       "\n",
       "       TRAVEL_STYL_1  TRAVEL_STYL_2  TRAVEL_STYL_3  TRAVEL_STYL_4  \\\n",
       "0                  5              3              5              4   \n",
       "1                  5              3              5              4   \n",
       "2                  5              3              5              4   \n",
       "3                  3              3              2              4   \n",
       "4                  3              2              3              3   \n",
       "...              ...            ...            ...            ...   \n",
       "22784              4              2              2              3   \n",
       "22785              4              2              2              3   \n",
       "22786              1              4              4              4   \n",
       "22787              1              4              4              4   \n",
       "22788              1              4              4              4   \n",
       "\n",
       "       TRAVEL_STYL_5  TRAVEL_STYL_6  TRAVEL_STYL_7  TRAVEL_STYL_8  \\\n",
       "0                  5              4              2              5   \n",
       "1                  5              4              2              5   \n",
       "2                  5              4              2              5   \n",
       "3                  5              4              3              2   \n",
       "4                  2              6              4              7   \n",
       "...              ...            ...            ...            ...   \n",
       "22784              2              5              1              7   \n",
       "22785              2              5              1              7   \n",
       "22786              4              4              4              4   \n",
       "22787              4              4              4              4   \n",
       "22788              4              4              4              4   \n",
       "\n",
       "       TRAVEL_MOTIVE_1  TRAVEL_NUM  TRAVEL_COMPANIONS_NUM  \n",
       "0                    1           1                      2  \n",
       "1                    1           1                      2  \n",
       "2                    1           1                      2  \n",
       "3                    1           4                      1  \n",
       "4                    3           1                      1  \n",
       "...                ...         ...                    ...  \n",
       "22784                7           1                      1  \n",
       "22785                7           1                      1  \n",
       "22786                4           1                      0  \n",
       "22787                4           1                      0  \n",
       "22788                4           1                      0  \n",
       "\n",
       "[22789 rows x 26 columns]"
      ]
     },
     "execution_count": 11,
     "metadata": {},
     "output_type": "execute_result"
    },
    {
     "name": "stdout",
     "output_type": "stream",
     "text": [
      "time: 16 ms (started: 2024-08-03 02:13:59 +09:00)\n"
     ]
    }
   ],
   "source": [
    "df"
   ]
  },
  {
   "cell_type": "code",
   "execution_count": 12,
   "metadata": {},
   "outputs": [
    {
     "data": {
      "text/plain": [
       "7680"
      ]
     },
     "execution_count": 12,
     "metadata": {},
     "output_type": "execute_result"
    },
    {
     "name": "stdout",
     "output_type": "stream",
     "text": [
      "time: 15 ms (started: 2024-08-03 02:13:59 +09:00)\n"
     ]
    }
   ],
   "source": [
    "df['TRAVEL_ID'].nunique()"
   ]
  },
  {
   "cell_type": "markdown",
   "metadata": {},
   "source": [
    "## 만족도(y) 결측치 삭제"
   ]
  },
  {
   "cell_type": "code",
   "execution_count": 13,
   "metadata": {},
   "outputs": [
    {
     "name": "stdout",
     "output_type": "stream",
     "text": [
      "time: 16 ms (started: 2024-08-03 02:13:59 +09:00)\n"
     ]
    }
   ],
   "source": [
    "df = df.dropna(subset=['DGSTFN']).reset_index(drop=True)"
   ]
  },
  {
   "cell_type": "code",
   "execution_count": 14,
   "metadata": {},
   "outputs": [
    {
     "data": {
      "text/plain": [
       "7253"
      ]
     },
     "execution_count": 14,
     "metadata": {},
     "output_type": "execute_result"
    },
    {
     "name": "stdout",
     "output_type": "stream",
     "text": [
      "time: 0 ns (started: 2024-08-03 02:13:59 +09:00)\n"
     ]
    }
   ],
   "source": [
    "df['TRAVEL_ID'].nunique()"
   ]
  },
  {
   "cell_type": "markdown",
   "metadata": {},
   "source": [
    "## 체류시간 결측치 대체"
   ]
  },
  {
   "cell_type": "markdown",
   "metadata": {},
   "source": [
    "체류시간 0을 median 60으로 바꾸기"
   ]
  },
  {
   "cell_type": "code",
   "execution_count": 15,
   "metadata": {},
   "outputs": [
    {
     "name": "stdout",
     "output_type": "stream",
     "text": [
      "time: 0 ns (started: 2024-08-03 02:13:59 +09:00)\n"
     ]
    }
   ],
   "source": [
    "df['RESIDENCE_TIME_MIN'] = df['RESIDENCE_TIME_MIN'].replace(0, 60)"
   ]
  },
  {
   "cell_type": "markdown",
   "metadata": {},
   "source": [
    "## 재방문여부 원핫인코딩"
   ]
  },
  {
   "cell_type": "code",
   "execution_count": 16,
   "metadata": {},
   "outputs": [
    {
     "name": "stdout",
     "output_type": "stream",
     "text": [
      "time: 16 ms (started: 2024-08-03 02:14:00 +09:00)\n"
     ]
    }
   ],
   "source": [
    "df['REVISIT_YN'] = np.where(df['REVISIT_YN'] == 'N', 0, 1)"
   ]
  },
  {
   "cell_type": "markdown",
   "metadata": {},
   "source": [
    "### 여행스타일 결측치 삭제"
   ]
  },
  {
   "cell_type": "code",
   "execution_count": 17,
   "metadata": {},
   "outputs": [
    {
     "name": "stdout",
     "output_type": "stream",
     "text": [
      "time: 15 ms (started: 2024-08-03 02:14:00 +09:00)\n"
     ]
    }
   ],
   "source": [
    "df = df.dropna(subset=['TRAVEL_STYL_1']).reset_index(drop=True)"
   ]
  },
  {
   "cell_type": "markdown",
   "metadata": {},
   "source": [
    "### 여행 목적 결측치 삭제"
   ]
  },
  {
   "cell_type": "code",
   "execution_count": 18,
   "metadata": {},
   "outputs": [
    {
     "name": "stdout",
     "output_type": "stream",
     "text": [
      "time: 16 ms (started: 2024-08-03 02:14:00 +09:00)\n"
     ]
    }
   ],
   "source": [
    "# 결측치 저장 및 초기화\n",
    "df = df.reset_index(drop=True)\n",
    "missing = df[df['TRAVEL_MOTIVE_1'].isna()].copy()\n",
    "\n",
    "# 최빈값으로 채우기 (1: 쇼핑)\n",
    "missing['TRAVEL_MOTIVE_1'] = 1.0\n",
    "\n",
    "# 결측치 채운 데이터프레임을 원래 데이터프레임에 반영\n",
    "df.update(missing)\n",
    "\n",
    "# 결측값이 채워졌는지 확인하기 위해 TRAVEL_MOTIVE_1 열의 결측값 제거 후 인덱스 재설정\n",
    "df = df.dropna(subset=['TRAVEL_MOTIVE_1']).reset_index(drop=True)"
   ]
  },
  {
   "cell_type": "code",
   "execution_count": 19,
   "metadata": {},
   "outputs": [
    {
     "data": {
      "text/plain": [
       "TRAVEL_MOTIVE_1\n",
       "1     5851\n",
       "3     5688\n",
       "2     4525\n",
       "7     2202\n",
       "8     1332\n",
       "5      711\n",
       "6      643\n",
       "4      620\n",
       "9      543\n",
       "10     247\n",
       "Name: count, dtype: int64"
      ]
     },
     "execution_count": 19,
     "metadata": {},
     "output_type": "execute_result"
    },
    {
     "name": "stdout",
     "output_type": "stream",
     "text": [
      "time: 0 ns (started: 2024-08-03 02:14:00 +09:00)\n"
     ]
    }
   ],
   "source": [
    "df['TRAVEL_MOTIVE_1'].value_counts()"
   ]
  },
  {
   "cell_type": "code",
   "execution_count": 20,
   "metadata": {},
   "outputs": [
    {
     "data": {
      "text/plain": [
       "(22362, 26)"
      ]
     },
     "execution_count": 20,
     "metadata": {},
     "output_type": "execute_result"
    },
    {
     "name": "stdout",
     "output_type": "stream",
     "text": [
      "time: 15 ms (started: 2024-08-03 02:14:00 +09:00)\n"
     ]
    }
   ],
   "source": [
    "df.shape"
   ]
  },
  {
   "cell_type": "code",
   "execution_count": 21,
   "metadata": {},
   "outputs": [
    {
     "data": {
      "text/plain": [
       "0"
      ]
     },
     "execution_count": 21,
     "metadata": {},
     "output_type": "execute_result"
    },
    {
     "name": "stdout",
     "output_type": "stream",
     "text": [
      "time: 0 ns (started: 2024-08-03 02:14:00 +09:00)\n"
     ]
    }
   ],
   "source": [
    "df.isna().sum().sum()"
   ]
  },
  {
   "cell_type": "code",
   "execution_count": 22,
   "metadata": {},
   "outputs": [
    {
     "data": {
      "text/plain": [
       "7253"
      ]
     },
     "execution_count": 22,
     "metadata": {},
     "output_type": "execute_result"
    },
    {
     "name": "stdout",
     "output_type": "stream",
     "text": [
      "time: 0 ns (started: 2024-08-03 02:14:00 +09:00)\n"
     ]
    }
   ],
   "source": [
    "df['TRAVEL_ID'].nunique()"
   ]
  },
  {
   "cell_type": "markdown",
   "metadata": {},
   "source": [
    "# Train-test split"
   ]
  },
  {
   "cell_type": "markdown",
   "metadata": {},
   "source": [
    "**고려사항**\n",
    "\n",
    "1. 유니크한 관광지 정보가 모두 train set에 있어야 한다.\n",
    "  - i.e. 모델을 학습할 때 모든 관광지에 대한 정보를 학습해야 한다. 따라서, 훈련 세트에 포함되지 않은 관광지는 테스트 세트에도 포함되지 않아야 한다.\n",
    "  - $\\because$ 방문지 변수를 사용하기 때문에 모델이 학습하지 않은 방문지에 대한 정보를 예측할 수 없음\n",
    "  - e.g. 경복궁에 대한 정보가 훈련 세트에 없으면 테스트 세트에도 경복궁이 포함되면 안 된다.\n",
    "2. 새로운 유저에 대한 추측이기 때문에 유저 데이터는 무조건 train/test 중 한 곳에만 있어야 한다.\n",
    "  - i.e. 한 유저의 데이터는 훈련 세트 또는 테스트 세트 중 하나에만 포함되어야 한다. 한 유저의 관광지 정보가 훈련 세트와 테스트 세트에 동시에 있으면 안 된다.\n",
    "  - $\\because$ 새로운 유저에 대한 예측을 진행하는 경우, 한 유저의 일부 데이터가 훈련 세트와 테스트 세트에 동시에 존재하면 모델 평가의 공정성이 떨어질 수 있음\n",
    "  - e.g. 유저 A가 경복궁을 방문한 기록이 훈련 세트에 있으면, 유저 A의 다른 방문 기록(예: 북촌 한옥마을)은 테스트 세트에 포함되지 않아야 한다.\n",
    "3. 이를 반영해서 train/test split을 진행하면 된다.\n",
    "  - i.e. 1과 2의 조건을 반영하여 데이터셋을 훈련 세트와 테스트 세트로 나누어야 한다.\n",
    "  - 방법\n",
    "    1. 모든 유니크한 관광지 정보를 훈련 세트에 포함시킨다.\n",
    "    2. 각 유저의 데이터를 훈련 세트와 테스트 세트 중 하나에만 포함되도록 분할한다.\n",
    "4. train set에서만 특정 변수들의 평균을 산출하고 이를 test set에 대입한다.\n",
    "   - i.e. 훈련 세트에서 특정 변수들(e.g. 체류시간, 추천 의향, 재방문 여부, 동반자 수, 재방문 의향)의 평균을 계산하고, 이 값을 테스트 세트에 대입한다.\n",
    "   - $\\because$ 훈련 세트에서 얻은 평균 값을 테스트 세트에 적용함으로써 모델이 훈련 세트에서 학습한 내용을 테스트 세트에 반영할 수 있다.\n",
    "   - 방법\n",
    "     1. 훈련 세트에서 각 관광지마다 체류시간 평균, 추천 의향 평균, 재방문 여부 평균, 동반자 수 평균, 재방문 의향 평균을 계산한다.\n",
    "     2. 이 값을 테스트 세트의 해당 관광지에 대입한다. "
   ]
  },
  {
   "cell_type": "code",
   "execution_count": 23,
   "metadata": {},
   "outputs": [
    {
     "data": {
      "text/plain": [
       "array(['화성 관광열차 안내소 연무대 매표소', '창룡문', '수원 화성 화홍문', ..., '농협 하나로마트 목포점',\n",
       "       '유달산 주차장', '문의 청남대 휴게소 청주 방향'], dtype=object)"
      ]
     },
     "execution_count": 23,
     "metadata": {},
     "output_type": "execute_result"
    },
    {
     "name": "stdout",
     "output_type": "stream",
     "text": [
      "time: 0 ns (started: 2024-08-03 02:14:00 +09:00)\n"
     ]
    }
   ],
   "source": [
    "df['VISIT_AREA_NM'].unique()"
   ]
  },
  {
   "cell_type": "markdown",
   "metadata": {},
   "source": [
    "이 프로세스를 반복하면 전체 데이터프레임(df1)에 유저정보는 계속 삭제될 것이고, 남은 df1가 test set, Train 데이터프레임이 train set이 되는 것"
   ]
  },
  {
   "cell_type": "code",
   "execution_count": 24,
   "metadata": {},
   "outputs": [
    {
     "name": "stderr",
     "output_type": "stream",
     "text": [
      "100%|██████████| 8805/8805 [00:36<00:00, 242.70it/s]"
     ]
    },
    {
     "name": "stdout",
     "output_type": "stream",
     "text": [
      "time: 36.3 s (started: 2024-08-03 02:14:00 +09:00)\n"
     ]
    },
    {
     "name": "stderr",
     "output_type": "stream",
     "text": [
      "\n"
     ]
    }
   ],
   "source": [
    "# df 복사본 생성\n",
    "df1 = df.copy()\n",
    "Train = pd.DataFrame(columns=df.columns)\n",
    "\n",
    "# 유니크한 관광지 목록\n",
    "unique_areas = df['VISIT_AREA_NM'].unique()\n",
    "\n",
    "np.random.seed(42)\n",
    "\n",
    "for area in tqdm(unique_areas):\n",
    "    # 특정 관광지에 간 모든 사람을 뽑아서\n",
    "    df2 = df1[df1['VISIT_AREA_NM'] == area]\n",
    "    if not df2.empty:\n",
    "        # 랜덤으로 한 명의 TRAVEL_ID를 뽑음\n",
    "        random_id = df2.sample(1, random_state=42)['TRAVEL_ID'].values[0]\n",
    "        # 그 사람이 간 모든 관광지를 구해서\n",
    "        df3 = df1[df1['TRAVEL_ID'] == random_id]\n",
    "        # TRAIN 데이터프레임에 추가\n",
    "        Train = pd.concat([Train, df3])\n",
    "        # df1에서 제거\n",
    "        df1 = df1[df1['TRAVEL_ID'] != random_id]\n",
    "        \n",
    "# TRAIN 데이터셋이 전체 데이터셋의 80%가 될 때까지 샘플링 반복\n",
    "while len(df1) / len(df) > 0.2:\n",
    "    random_id = df1.sample(1, random_state=42)['TRAVEL_ID'].values[0]\n",
    "    df3 = df1[df1['TRAVEL_ID'] == random_id]\n",
    "    Train = pd.concat([Train, df3])\n",
    "    df1 = df1[df1['TRAVEL_ID'] != random_id]"
   ]
  },
  {
   "cell_type": "code",
   "execution_count": 25,
   "metadata": {},
   "outputs": [
    {
     "name": "stdout",
     "output_type": "stream",
     "text": [
      "Train set의 크기: 17958, Test set의 크기: 4404\n",
      "전체 data의 크기: 22362\n",
      "Test set의 비율: 0.20\n",
      "time: 0 ns (started: 2024-08-03 02:14:36 +09:00)\n"
     ]
    }
   ],
   "source": [
    "# 데이터셋 크기 및 비율 출력\n",
    "train_size = len(Train)\n",
    "test_size = len(df1)\n",
    "total_size = len(df)\n",
    "test_ratio = test_size / total_size\n",
    "\n",
    "print(f\"Train set의 크기: {train_size}, Test set의 크기: {test_size}\")\n",
    "print(f\"전체 data의 크기: {total_size}\")\n",
    "print(f\"Test set의 비율: {test_ratio:.2f}\")"
   ]
  },
  {
   "cell_type": "markdown",
   "metadata": {},
   "source": [
    "## Train set에서 방문지에 대한 변수 생성\n",
    "\n",
    "방문지마다 체류시간 평균, 추천의향의 평균, 재방문여부의 평균, 동반자 수의 평균, 재방문의향의 평균 산출"
   ]
  },
  {
   "cell_type": "code",
   "execution_count": 26,
   "metadata": {},
   "outputs": [
    {
     "name": "stdout",
     "output_type": "stream",
     "text": [
      "time: 953 ms (started: 2024-08-03 02:14:36 +09:00)\n"
     ]
    }
   ],
   "source": [
    "# 필요한 평균값을 계산하고 병합\n",
    "means = Train.groupby('VISIT_AREA_NM').agg({\n",
    "    'RESIDENCE_TIME_MIN': 'mean',\n",
    "    'RCMDTN_INTENTION': 'mean',\n",
    "    'REVISIT_YN': 'mean',\n",
    "    'TRAVEL_COMPANIONS_NUM': 'mean',\n",
    "    'REVISIT_INTENTION': 'mean'\n",
    "}).rename(columns={\n",
    "    'RESIDENCE_TIME_MIN': 'RESIDENCE_TIME_MIN_mean',\n",
    "    'RCMDTN_INTENTION': 'RCMDTN_INTENTION_mean',\n",
    "    'REVISIT_YN': 'REVISIT_YN_mean',\n",
    "    'TRAVEL_COMPANIONS_NUM': 'TRAVEL_COMPANIONS_NUM_mean',\n",
    "    'REVISIT_INTENTION': 'REVISIT_INTENTION_mean'\n",
    "})\n",
    "\n",
    "# 새로운 데이터프레임 생성\n",
    "new_train = Train.merge(means, on='VISIT_AREA_NM', how='left')"
   ]
  },
  {
   "cell_type": "code",
   "execution_count": 27,
   "metadata": {},
   "outputs": [
    {
     "name": "stdout",
     "output_type": "stream",
     "text": [
      "time: 16 ms (started: 2024-08-03 02:14:37 +09:00)\n"
     ]
    }
   ],
   "source": [
    "new_train = new_train.sort_values(by=['TRAVEL_ID'], axis=0)"
   ]
  },
  {
   "cell_type": "markdown",
   "metadata": {},
   "source": [
    "## Data Set 저장"
   ]
  },
  {
   "cell_type": "code",
   "execution_count": 28,
   "metadata": {},
   "outputs": [
    {
     "name": "stdout",
     "output_type": "stream",
     "text": [
      "time: 187 ms (started: 2024-08-03 02:14:37 +09:00)\n"
     ]
    }
   ],
   "source": [
    "path = './'\n",
    "\n",
    "# train set 저장\n",
    "new_train.to_csv(os.path.join(path, '관광지 추천시스템 Trainset.csv'), index=False)\n",
    "\n",
    "# test set 저장\n",
    "df1.to_csv(os.path.join(path, '관광지 추천시스템 Testset.csv'), index=False)"
   ]
  },
  {
   "cell_type": "code",
   "execution_count": 29,
   "metadata": {},
   "outputs": [
    {
     "name": "stdout",
     "output_type": "stream",
     "text": [
      "time: 78 ms (started: 2024-08-03 02:14:37 +09:00)\n"
     ]
    }
   ],
   "source": [
    "# 파일 불러오기\n",
    "train = pd.read_csv(os.path.join(path, \"관광지 추천시스템 Trainset.csv\"))\n",
    "test = pd.read_csv(os.path.join(path, \"관광지 추천시스템 Testset.csv\"))"
   ]
  },
  {
   "cell_type": "code",
   "execution_count": 30,
   "metadata": {},
   "outputs": [
    {
     "name": "stdout",
     "output_type": "stream",
     "text": [
      "time: 0 ns (started: 2024-08-03 02:14:37 +09:00)\n"
     ]
    }
   ],
   "source": [
    "train = train.dropna().reset_index(drop=True)\n",
    "test = test.dropna().reset_index(drop=True)"
   ]
  },
  {
   "cell_type": "code",
   "execution_count": 31,
   "metadata": {},
   "outputs": [
    {
     "name": "stdout",
     "output_type": "stream",
     "text": [
      "(17958, 31)\n",
      "(4404, 26)\n",
      "time: 0 ns (started: 2024-08-03 02:14:37 +09:00)\n"
     ]
    }
   ],
   "source": [
    "print(train.shape)\n",
    "print(test.shape)"
   ]
  },
  {
   "cell_type": "markdown",
   "metadata": {},
   "source": [
    "# Train set 여행 방문지 필터링"
   ]
  },
  {
   "cell_type": "markdown",
   "metadata": {},
   "source": [
    "## n번 이상 반복한 곳에 대해서만 학습/테스트"
   ]
  },
  {
   "cell_type": "code",
   "execution_count": 32,
   "metadata": {},
   "outputs": [
    {
     "data": {
      "text/html": [
       "<div>\n",
       "<style scoped>\n",
       "    .dataframe tbody tr th:only-of-type {\n",
       "        vertical-align: middle;\n",
       "    }\n",
       "\n",
       "    .dataframe tbody tr th {\n",
       "        vertical-align: top;\n",
       "    }\n",
       "\n",
       "    .dataframe thead th {\n",
       "        text-align: right;\n",
       "    }\n",
       "</style>\n",
       "<table border=\"1\" class=\"dataframe\">\n",
       "  <thead>\n",
       "    <tr style=\"text-align: right;\">\n",
       "      <th></th>\n",
       "      <th>count</th>\n",
       "    </tr>\n",
       "    <tr>\n",
       "      <th>VISIT_AREA_NM</th>\n",
       "      <th></th>\n",
       "    </tr>\n",
       "  </thead>\n",
       "  <tbody>\n",
       "    <tr>\n",
       "      <th>광안리해수욕장</th>\n",
       "      <td>106</td>\n",
       "    </tr>\n",
       "    <tr>\n",
       "      <th>해운대해수욕장</th>\n",
       "      <td>84</td>\n",
       "    </tr>\n",
       "    <tr>\n",
       "      <th>전주한옥마을</th>\n",
       "      <td>82</td>\n",
       "    </tr>\n",
       "    <tr>\n",
       "      <th>대릉원</th>\n",
       "      <td>71</td>\n",
       "    </tr>\n",
       "    <tr>\n",
       "      <th>황련단길</th>\n",
       "      <td>70</td>\n",
       "    </tr>\n",
       "    <tr>\n",
       "      <th>...</th>\n",
       "      <td>...</td>\n",
       "    </tr>\n",
       "    <tr>\n",
       "      <th>커피 플레이스</th>\n",
       "      <td>1</td>\n",
       "    </tr>\n",
       "    <tr>\n",
       "      <th>원주 로데오거리</th>\n",
       "      <td>1</td>\n",
       "    </tr>\n",
       "    <tr>\n",
       "      <th>캠핑 바비큐 한마당</th>\n",
       "      <td>1</td>\n",
       "    </tr>\n",
       "    <tr>\n",
       "      <th>중원 전통시장</th>\n",
       "      <td>1</td>\n",
       "    </tr>\n",
       "    <tr>\n",
       "      <th>문의 청남대 휴게소 청주 방향</th>\n",
       "      <td>1</td>\n",
       "    </tr>\n",
       "  </tbody>\n",
       "</table>\n",
       "<p>8805 rows × 1 columns</p>\n",
       "</div>"
      ],
      "text/plain": [
       "                  count\n",
       "VISIT_AREA_NM          \n",
       "광안리해수욕장             106\n",
       "해운대해수욕장              84\n",
       "전주한옥마을               82\n",
       "대릉원                  71\n",
       "황련단길                 70\n",
       "...                 ...\n",
       "커피 플레이스               1\n",
       "원주 로데오거리              1\n",
       "캠핑 바비큐 한마당            1\n",
       "중원 전통시장               1\n",
       "문의 청남대 휴게소 청주 방향      1\n",
       "\n",
       "[8805 rows x 1 columns]"
      ]
     },
     "execution_count": 32,
     "metadata": {},
     "output_type": "execute_result"
    },
    {
     "name": "stdout",
     "output_type": "stream",
     "text": [
      "time: 16 ms (started: 2024-08-03 02:14:37 +09:00)\n"
     ]
    }
   ],
   "source": [
    "count = pd.DataFrame(train['VISIT_AREA_NM'].value_counts())\n",
    "\n",
    "count"
   ]
  },
  {
   "cell_type": "code",
   "execution_count": 33,
   "metadata": {},
   "outputs": [
    {
     "data": {
      "text/plain": [
       "array([106,  84,  82, ...,   1,   1,   1], dtype=int64)"
      ]
     },
     "execution_count": 33,
     "metadata": {},
     "output_type": "execute_result"
    },
    {
     "name": "stdout",
     "output_type": "stream",
     "text": [
      "time: 16 ms (started: 2024-08-03 02:14:37 +09:00)\n"
     ]
    }
   ],
   "source": [
    "count['count'].values"
   ]
  },
  {
   "cell_type": "code",
   "execution_count": 34,
   "metadata": {},
   "outputs": [
    {
     "name": "stdout",
     "output_type": "stream",
     "text": [
      "time: 15 ms (started: 2024-08-03 02:14:37 +09:00)\n"
     ]
    }
   ],
   "source": [
    "train = train.reset_index(drop=True)\n",
    "\n",
    "# 4번 이상 방문한 곳으로 필터링\n",
    "count = train['VISIT_AREA_NM'].value_counts()\n",
    "four_places = count[count >= 2].index\n",
    "\n",
    "# 필터링\n",
    "train = train[train['VISIT_AREA_NM'].isin(four_places)].reset_index(drop=True)"
   ]
  },
  {
   "cell_type": "code",
   "execution_count": 35,
   "metadata": {},
   "outputs": [
    {
     "data": {
      "text/plain": [
       "Index([  2,   3,   4,   5,   6,   7,   8,   9,  10,  12,  11,  15,  14,  13,\n",
       "        16,  17,  21,  23,  19,  22,  18,  25,  20,  30,  24,  36,  31,  27,\n",
       "        26,  28,  34,  37,  51,  82,  71,  70,  66,  60,  58,  56,  54,  45,\n",
       "        50,  84,  43,  42,  41,  38,  33,  32, 106],\n",
       "      dtype='int64', name='count')"
      ]
     },
     "execution_count": 35,
     "metadata": {},
     "output_type": "execute_result"
    },
    {
     "name": "stdout",
     "output_type": "stream",
     "text": [
      "time: 0 ns (started: 2024-08-03 02:14:37 +09:00)\n"
     ]
    }
   ],
   "source": [
    "train['VISIT_AREA_NM'].value_counts().value_counts().index"
   ]
  },
  {
   "cell_type": "code",
   "execution_count": 36,
   "metadata": {},
   "outputs": [
    {
     "name": "stdout",
     "output_type": "stream",
     "text": [
      "(11673, 31)\n",
      "(4404, 26)\n",
      "time: 0 ns (started: 2024-08-03 02:14:37 +09:00)\n"
     ]
    }
   ],
   "source": [
    "print(train.shape)\n",
    "print(test.shape)"
   ]
  },
  {
   "cell_type": "code",
   "execution_count": 37,
   "metadata": {},
   "outputs": [
    {
     "data": {
      "text/plain": [
       "6398"
      ]
     },
     "execution_count": 37,
     "metadata": {},
     "output_type": "execute_result"
    },
    {
     "name": "stdout",
     "output_type": "stream",
     "text": [
      "time: 0 ns (started: 2024-08-03 02:14:37 +09:00)\n"
     ]
    }
   ],
   "source": [
    "(train['TRAVEL_ID'].nunique() + test['TRAVEL_ID'].nunique())"
   ]
  },
  {
   "cell_type": "markdown",
   "metadata": {},
   "source": [
    "# CatBoost 모델 기반 추천시스템 학습"
   ]
  },
  {
   "cell_type": "code",
   "execution_count": 38,
   "metadata": {},
   "outputs": [
    {
     "name": "stdout",
     "output_type": "stream",
     "text": [
      "time: 0 ns (started: 2024-08-03 02:14:37 +09:00)\n"
     ]
    }
   ],
   "source": [
    "drop_columns = ['TRAVELER_ID', 'REVISIT_INTENTION', 'RCMDTN_INTENTION', 'RESIDENCE_TIME_MIN', 'REVISIT_YN']\n",
    "\n",
    "train = train.drop(columns=drop_columns)\n",
    "test = test.drop(columns=drop_columns)"
   ]
  },
  {
   "cell_type": "code",
   "execution_count": 39,
   "metadata": {},
   "outputs": [
    {
     "name": "stdout",
     "output_type": "stream",
     "text": [
      "time: 16 ms (started: 2024-08-03 02:14:37 +09:00)\n"
     ]
    }
   ],
   "source": [
    "# 데이터 타입 변경\n",
    "train['VISIT_AREA_TYPE_CD'] = train['VISIT_AREA_TYPE_CD'].astype(str)\n",
    "test['VISIT_AREA_TYPE_CD'] = test['VISIT_AREA_TYPE_CD'].astype(str)"
   ]
  },
  {
   "cell_type": "code",
   "execution_count": 40,
   "metadata": {},
   "outputs": [
    {
     "name": "stdout",
     "output_type": "stream",
     "text": [
      "time: 15 ms (started: 2024-08-03 02:14:37 +09:00)\n"
     ]
    }
   ],
   "source": [
    "X_train = Train.drop(columns=['DGSTFN'], axis=1)\n",
    "y_train = Train['DGSTFN']"
   ]
  },
  {
   "cell_type": "code",
   "execution_count": 41,
   "metadata": {},
   "outputs": [
    {
     "data": {
      "text/html": [
       "<div>\n",
       "<style scoped>\n",
       "    .dataframe tbody tr th:only-of-type {\n",
       "        vertical-align: middle;\n",
       "    }\n",
       "\n",
       "    .dataframe tbody tr th {\n",
       "        vertical-align: top;\n",
       "    }\n",
       "\n",
       "    .dataframe thead th {\n",
       "        text-align: right;\n",
       "    }\n",
       "</style>\n",
       "<table border=\"1\" class=\"dataframe\">\n",
       "  <thead>\n",
       "    <tr style=\"text-align: right;\">\n",
       "      <th></th>\n",
       "      <th>TRAVEL_ID</th>\n",
       "      <th>VISIT_AREA_NM</th>\n",
       "      <th>SIDO</th>\n",
       "      <th>GUNGU</th>\n",
       "      <th>VISIT_AREA_TYPE_CD</th>\n",
       "      <th>REVISIT_INTENTION</th>\n",
       "      <th>RCMDTN_INTENTION</th>\n",
       "      <th>RESIDENCE_TIME_MIN</th>\n",
       "      <th>REVISIT_YN</th>\n",
       "      <th>TRAVELER_ID</th>\n",
       "      <th>TRAVEL_MISSION_PRIORITY</th>\n",
       "      <th>GENDER</th>\n",
       "      <th>AGE_GRP</th>\n",
       "      <th>INCOME</th>\n",
       "      <th>TRAVEL_STYL_1</th>\n",
       "      <th>TRAVEL_STYL_2</th>\n",
       "      <th>TRAVEL_STYL_3</th>\n",
       "      <th>TRAVEL_STYL_4</th>\n",
       "      <th>TRAVEL_STYL_5</th>\n",
       "      <th>TRAVEL_STYL_6</th>\n",
       "      <th>TRAVEL_STYL_7</th>\n",
       "      <th>TRAVEL_STYL_8</th>\n",
       "      <th>TRAVEL_MOTIVE_1</th>\n",
       "      <th>TRAVEL_NUM</th>\n",
       "      <th>TRAVEL_COMPANIONS_NUM</th>\n",
       "    </tr>\n",
       "  </thead>\n",
       "  <tbody>\n",
       "    <tr>\n",
       "      <th>311</th>\n",
       "      <td>e_e000541</td>\n",
       "      <td>화성 관광열차 안내소 연무대 매표소</td>\n",
       "      <td>경기</td>\n",
       "      <td>수원시</td>\n",
       "      <td>2.0</td>\n",
       "      <td>3.0</td>\n",
       "      <td>4.0</td>\n",
       "      <td>60.0</td>\n",
       "      <td>0</td>\n",
       "      <td>e000541</td>\n",
       "      <td>3</td>\n",
       "      <td>여</td>\n",
       "      <td>40</td>\n",
       "      <td>1</td>\n",
       "      <td>4</td>\n",
       "      <td>3</td>\n",
       "      <td>5</td>\n",
       "      <td>2</td>\n",
       "      <td>3</td>\n",
       "      <td>6</td>\n",
       "      <td>5</td>\n",
       "      <td>6</td>\n",
       "      <td>8</td>\n",
       "      <td>1</td>\n",
       "      <td>2</td>\n",
       "    </tr>\n",
       "    <tr>\n",
       "      <th>312</th>\n",
       "      <td>e_e000541</td>\n",
       "      <td>화성행궁</td>\n",
       "      <td>경기</td>\n",
       "      <td>수원시</td>\n",
       "      <td>2.0</td>\n",
       "      <td>4.0</td>\n",
       "      <td>4.0</td>\n",
       "      <td>30.0</td>\n",
       "      <td>0</td>\n",
       "      <td>e000541</td>\n",
       "      <td>3</td>\n",
       "      <td>여</td>\n",
       "      <td>40</td>\n",
       "      <td>1</td>\n",
       "      <td>4</td>\n",
       "      <td>3</td>\n",
       "      <td>5</td>\n",
       "      <td>2</td>\n",
       "      <td>3</td>\n",
       "      <td>6</td>\n",
       "      <td>5</td>\n",
       "      <td>6</td>\n",
       "      <td>8</td>\n",
       "      <td>1</td>\n",
       "      <td>2</td>\n",
       "    </tr>\n",
       "    <tr>\n",
       "      <th>313</th>\n",
       "      <td>e_e000541</td>\n",
       "      <td>수원 화성 북서적대</td>\n",
       "      <td>경기</td>\n",
       "      <td>수원시</td>\n",
       "      <td>7.0</td>\n",
       "      <td>3.0</td>\n",
       "      <td>3.0</td>\n",
       "      <td>30.0</td>\n",
       "      <td>0</td>\n",
       "      <td>e000541</td>\n",
       "      <td>3</td>\n",
       "      <td>여</td>\n",
       "      <td>40</td>\n",
       "      <td>1</td>\n",
       "      <td>4</td>\n",
       "      <td>3</td>\n",
       "      <td>5</td>\n",
       "      <td>2</td>\n",
       "      <td>3</td>\n",
       "      <td>6</td>\n",
       "      <td>5</td>\n",
       "      <td>6</td>\n",
       "      <td>8</td>\n",
       "      <td>1</td>\n",
       "      <td>2</td>\n",
       "    </tr>\n",
       "    <tr>\n",
       "      <th>0</th>\n",
       "      <td>e_e000004</td>\n",
       "      <td>화성 관광열차 안내소 연무대 매표소</td>\n",
       "      <td>경기</td>\n",
       "      <td>수원시</td>\n",
       "      <td>2.0</td>\n",
       "      <td>3.0</td>\n",
       "      <td>4.0</td>\n",
       "      <td>60.0</td>\n",
       "      <td>0</td>\n",
       "      <td>e000004</td>\n",
       "      <td>3</td>\n",
       "      <td>남</td>\n",
       "      <td>40</td>\n",
       "      <td>7</td>\n",
       "      <td>5</td>\n",
       "      <td>3</td>\n",
       "      <td>5</td>\n",
       "      <td>4</td>\n",
       "      <td>5</td>\n",
       "      <td>4</td>\n",
       "      <td>2</td>\n",
       "      <td>5</td>\n",
       "      <td>1</td>\n",
       "      <td>1</td>\n",
       "      <td>2</td>\n",
       "    </tr>\n",
       "    <tr>\n",
       "      <th>1</th>\n",
       "      <td>e_e000004</td>\n",
       "      <td>창룡문</td>\n",
       "      <td>경기</td>\n",
       "      <td>수원시</td>\n",
       "      <td>2.0</td>\n",
       "      <td>4.0</td>\n",
       "      <td>4.0</td>\n",
       "      <td>30.0</td>\n",
       "      <td>0</td>\n",
       "      <td>e000004</td>\n",
       "      <td>3</td>\n",
       "      <td>남</td>\n",
       "      <td>40</td>\n",
       "      <td>7</td>\n",
       "      <td>5</td>\n",
       "      <td>3</td>\n",
       "      <td>5</td>\n",
       "      <td>4</td>\n",
       "      <td>5</td>\n",
       "      <td>4</td>\n",
       "      <td>2</td>\n",
       "      <td>5</td>\n",
       "      <td>1</td>\n",
       "      <td>1</td>\n",
       "      <td>2</td>\n",
       "    </tr>\n",
       "    <tr>\n",
       "      <th>...</th>\n",
       "      <td>...</td>\n",
       "      <td>...</td>\n",
       "      <td>...</td>\n",
       "      <td>...</td>\n",
       "      <td>...</td>\n",
       "      <td>...</td>\n",
       "      <td>...</td>\n",
       "      <td>...</td>\n",
       "      <td>...</td>\n",
       "      <td>...</td>\n",
       "      <td>...</td>\n",
       "      <td>...</td>\n",
       "      <td>...</td>\n",
       "      <td>...</td>\n",
       "      <td>...</td>\n",
       "      <td>...</td>\n",
       "      <td>...</td>\n",
       "      <td>...</td>\n",
       "      <td>...</td>\n",
       "      <td>...</td>\n",
       "      <td>...</td>\n",
       "      <td>...</td>\n",
       "      <td>...</td>\n",
       "      <td>...</td>\n",
       "      <td>...</td>\n",
       "    </tr>\n",
       "    <tr>\n",
       "      <th>22355</th>\n",
       "      <td>g_g013131</td>\n",
       "      <td>평화광장</td>\n",
       "      <td>전남</td>\n",
       "      <td>목포시</td>\n",
       "      <td>1.0</td>\n",
       "      <td>5.0</td>\n",
       "      <td>5.0</td>\n",
       "      <td>60.0</td>\n",
       "      <td>1</td>\n",
       "      <td>g013131</td>\n",
       "      <td>4</td>\n",
       "      <td>남</td>\n",
       "      <td>20</td>\n",
       "      <td>1</td>\n",
       "      <td>6</td>\n",
       "      <td>3</td>\n",
       "      <td>2</td>\n",
       "      <td>3</td>\n",
       "      <td>3</td>\n",
       "      <td>6</td>\n",
       "      <td>6</td>\n",
       "      <td>6</td>\n",
       "      <td>5</td>\n",
       "      <td>1</td>\n",
       "      <td>1</td>\n",
       "    </tr>\n",
       "    <tr>\n",
       "      <th>22356</th>\n",
       "      <td>g_g013131</td>\n",
       "      <td>목포 갓바위</td>\n",
       "      <td>전남</td>\n",
       "      <td>목포시</td>\n",
       "      <td>1.0</td>\n",
       "      <td>4.0</td>\n",
       "      <td>4.0</td>\n",
       "      <td>60.0</td>\n",
       "      <td>1</td>\n",
       "      <td>g013131</td>\n",
       "      <td>4</td>\n",
       "      <td>남</td>\n",
       "      <td>20</td>\n",
       "      <td>1</td>\n",
       "      <td>6</td>\n",
       "      <td>3</td>\n",
       "      <td>2</td>\n",
       "      <td>3</td>\n",
       "      <td>3</td>\n",
       "      <td>6</td>\n",
       "      <td>6</td>\n",
       "      <td>6</td>\n",
       "      <td>5</td>\n",
       "      <td>1</td>\n",
       "      <td>1</td>\n",
       "    </tr>\n",
       "    <tr>\n",
       "      <th>22359</th>\n",
       "      <td>h_h003280</td>\n",
       "      <td>법주사</td>\n",
       "      <td>충북</td>\n",
       "      <td>보은군</td>\n",
       "      <td>2.0</td>\n",
       "      <td>5.0</td>\n",
       "      <td>5.0</td>\n",
       "      <td>90.0</td>\n",
       "      <td>0</td>\n",
       "      <td>h003280</td>\n",
       "      <td>3</td>\n",
       "      <td>여</td>\n",
       "      <td>40</td>\n",
       "      <td>5</td>\n",
       "      <td>1</td>\n",
       "      <td>4</td>\n",
       "      <td>4</td>\n",
       "      <td>4</td>\n",
       "      <td>4</td>\n",
       "      <td>4</td>\n",
       "      <td>4</td>\n",
       "      <td>4</td>\n",
       "      <td>4</td>\n",
       "      <td>1</td>\n",
       "      <td>0</td>\n",
       "    </tr>\n",
       "    <tr>\n",
       "      <th>22360</th>\n",
       "      <td>h_h003280</td>\n",
       "      <td>정이품송</td>\n",
       "      <td>충북</td>\n",
       "      <td>보은군</td>\n",
       "      <td>1.0</td>\n",
       "      <td>5.0</td>\n",
       "      <td>5.0</td>\n",
       "      <td>30.0</td>\n",
       "      <td>0</td>\n",
       "      <td>h003280</td>\n",
       "      <td>3</td>\n",
       "      <td>여</td>\n",
       "      <td>40</td>\n",
       "      <td>5</td>\n",
       "      <td>1</td>\n",
       "      <td>4</td>\n",
       "      <td>4</td>\n",
       "      <td>4</td>\n",
       "      <td>4</td>\n",
       "      <td>4</td>\n",
       "      <td>4</td>\n",
       "      <td>4</td>\n",
       "      <td>4</td>\n",
       "      <td>1</td>\n",
       "      <td>0</td>\n",
       "    </tr>\n",
       "    <tr>\n",
       "      <th>22361</th>\n",
       "      <td>h_h003280</td>\n",
       "      <td>문의 청남대 휴게소 청주 방향</td>\n",
       "      <td>충북</td>\n",
       "      <td>청주시</td>\n",
       "      <td>4.0</td>\n",
       "      <td>5.0</td>\n",
       "      <td>5.0</td>\n",
       "      <td>30.0</td>\n",
       "      <td>0</td>\n",
       "      <td>h003280</td>\n",
       "      <td>3</td>\n",
       "      <td>여</td>\n",
       "      <td>40</td>\n",
       "      <td>5</td>\n",
       "      <td>1</td>\n",
       "      <td>4</td>\n",
       "      <td>4</td>\n",
       "      <td>4</td>\n",
       "      <td>4</td>\n",
       "      <td>4</td>\n",
       "      <td>4</td>\n",
       "      <td>4</td>\n",
       "      <td>4</td>\n",
       "      <td>1</td>\n",
       "      <td>0</td>\n",
       "    </tr>\n",
       "  </tbody>\n",
       "</table>\n",
       "<p>17958 rows × 25 columns</p>\n",
       "</div>"
      ],
      "text/plain": [
       "       TRAVEL_ID        VISIT_AREA_NM SIDO GUNGU  VISIT_AREA_TYPE_CD  \\\n",
       "311    e_e000541  화성 관광열차 안내소 연무대 매표소   경기   수원시                 2.0   \n",
       "312    e_e000541                 화성행궁   경기   수원시                 2.0   \n",
       "313    e_e000541           수원 화성 북서적대   경기   수원시                 7.0   \n",
       "0      e_e000004  화성 관광열차 안내소 연무대 매표소   경기   수원시                 2.0   \n",
       "1      e_e000004                  창룡문   경기   수원시                 2.0   \n",
       "...          ...                  ...  ...   ...                 ...   \n",
       "22355  g_g013131                 평화광장   전남   목포시                 1.0   \n",
       "22356  g_g013131               목포 갓바위   전남   목포시                 1.0   \n",
       "22359  h_h003280                  법주사   충북   보은군                 2.0   \n",
       "22360  h_h003280                 정이품송   충북   보은군                 1.0   \n",
       "22361  h_h003280     문의 청남대 휴게소 청주 방향   충북   청주시                 4.0   \n",
       "\n",
       "       REVISIT_INTENTION  RCMDTN_INTENTION  RESIDENCE_TIME_MIN REVISIT_YN  \\\n",
       "311                  3.0               4.0                60.0          0   \n",
       "312                  4.0               4.0                30.0          0   \n",
       "313                  3.0               3.0                30.0          0   \n",
       "0                    3.0               4.0                60.0          0   \n",
       "1                    4.0               4.0                30.0          0   \n",
       "...                  ...               ...                 ...        ...   \n",
       "22355                5.0               5.0                60.0          1   \n",
       "22356                4.0               4.0                60.0          1   \n",
       "22359                5.0               5.0                90.0          0   \n",
       "22360                5.0               5.0                30.0          0   \n",
       "22361                5.0               5.0                30.0          0   \n",
       "\n",
       "      TRAVELER_ID TRAVEL_MISSION_PRIORITY GENDER AGE_GRP INCOME TRAVEL_STYL_1  \\\n",
       "311       e000541                       3      여      40      1             4   \n",
       "312       e000541                       3      여      40      1             4   \n",
       "313       e000541                       3      여      40      1             4   \n",
       "0         e000004                       3      남      40      7             5   \n",
       "1         e000004                       3      남      40      7             5   \n",
       "...           ...                     ...    ...     ...    ...           ...   \n",
       "22355     g013131                       4      남      20      1             6   \n",
       "22356     g013131                       4      남      20      1             6   \n",
       "22359     h003280                       3      여      40      5             1   \n",
       "22360     h003280                       3      여      40      5             1   \n",
       "22361     h003280                       3      여      40      5             1   \n",
       "\n",
       "      TRAVEL_STYL_2 TRAVEL_STYL_3 TRAVEL_STYL_4 TRAVEL_STYL_5 TRAVEL_STYL_6  \\\n",
       "311               3             5             2             3             6   \n",
       "312               3             5             2             3             6   \n",
       "313               3             5             2             3             6   \n",
       "0                 3             5             4             5             4   \n",
       "1                 3             5             4             5             4   \n",
       "...             ...           ...           ...           ...           ...   \n",
       "22355             3             2             3             3             6   \n",
       "22356             3             2             3             3             6   \n",
       "22359             4             4             4             4             4   \n",
       "22360             4             4             4             4             4   \n",
       "22361             4             4             4             4             4   \n",
       "\n",
       "      TRAVEL_STYL_7 TRAVEL_STYL_8 TRAVEL_MOTIVE_1 TRAVEL_NUM  \\\n",
       "311               5             6               8          1   \n",
       "312               5             6               8          1   \n",
       "313               5             6               8          1   \n",
       "0                 2             5               1          1   \n",
       "1                 2             5               1          1   \n",
       "...             ...           ...             ...        ...   \n",
       "22355             6             6               5          1   \n",
       "22356             6             6               5          1   \n",
       "22359             4             4               4          1   \n",
       "22360             4             4               4          1   \n",
       "22361             4             4               4          1   \n",
       "\n",
       "      TRAVEL_COMPANIONS_NUM  \n",
       "311                       2  \n",
       "312                       2  \n",
       "313                       2  \n",
       "0                         2  \n",
       "1                         2  \n",
       "...                     ...  \n",
       "22355                     1  \n",
       "22356                     1  \n",
       "22359                     0  \n",
       "22360                     0  \n",
       "22361                     0  \n",
       "\n",
       "[17958 rows x 25 columns]"
      ]
     },
     "execution_count": 41,
     "metadata": {},
     "output_type": "execute_result"
    },
    {
     "name": "stdout",
     "output_type": "stream",
     "text": [
      "time: 16 ms (started: 2024-08-03 02:14:37 +09:00)\n"
     ]
    }
   ],
   "source": [
    "X_train"
   ]
  },
  {
   "cell_type": "code",
   "execution_count": 42,
   "metadata": {},
   "outputs": [
    {
     "name": "stdout",
     "output_type": "stream",
     "text": [
      "time: 0 ns (started: 2024-08-03 02:14:37 +09:00)\n"
     ]
    }
   ],
   "source": [
    "import numpy as np\n",
    "import pandas as pd\n",
    "from tqdm import tqdm\n",
    "from sklearn.model_selection import StratifiedKFold\n",
    "from catboost import CatBoostRegressor\n",
    "\n",
    "def calculate_recall_at_k(actual, predicted, k):\n",
    "    actual_set = set(actual)\n",
    "    predicted_set = set(predicted[:k])\n",
    "    intersection_count = len(actual_set & predicted_set)\n",
    "    recall_at_k = intersection_count / len(actual_set) if actual_set else 0\n",
    "    return recall_at_k\n",
    "\n",
    "def preprocess_data(X, cat_features):\n",
    "    X = X.copy()\n",
    "    for cat_feature in cat_features:\n",
    "        X[cat_feature] = X[cat_feature].astype(str)\n",
    "    num_features = X.columns.difference(cat_features + ['TRAVEL_ID', 'TRAVELER_ID', 'DGSTFN'])\n",
    "    X[num_features] = X[num_features].apply(pd.to_numeric, errors='coerce')\n",
    "    X = X.drop(columns=['TRAVEL_ID', 'TRAVELER_ID'], errors='ignore')\n",
    "    if 'DGSTFN' in X.columns:\n",
    "        X = X.drop(columns=['DGSTFN'], errors='ignore')\n",
    "    return X, num_features\n",
    "\n",
    "def train_and_evaluate_model(X_train, y_train, X_val, y_val, cat_features, params):\n",
    "    model = CatBoostRegressor(\n",
    "        n_estimators=params['n_estimators'],\n",
    "        max_depth=params['max_depth'],\n",
    "        subsample=params['subsample'],\n",
    "        colsample_bylevel=params['colsample_bylevel'],\n",
    "        cat_features=cat_features,\n",
    "        random_state=params['random_state'],\n",
    "        silent=True  # Suppress output\n",
    "    )\n",
    "    model.fit(X_train, y_train)\n",
    "    \n",
    "    y_pred = model.predict(X_val)\n",
    "    recall_list = [\n",
    "        calculate_recall_at_k([X_val.iloc[i]['VISIT_AREA_NM']], X_val['VISIT_AREA_NM'][np.argsort(y_pred)[::-1]], 10)\n",
    "        for i in range(len(X_val))\n",
    "    ]\n",
    "    return np.mean(recall_list) if recall_list else 0\n",
    "\n",
    "def cross_validation(X_train, y_train, cv, iterations, random_state):\n",
    "    skf = StratifiedKFold(n_splits=cv, shuffle=True, random_state=random_state)\n",
    "    cat_features = ['VISIT_AREA_NM', 'SIDO', 'GUNGU', 'VISIT_AREA_TYPE_CD', 'TRAVEL_MISSION_PRIORITY', 'AGE_GRP', 'GENDER']\n",
    "\n",
    "    folds = [\n",
    "        (X_train.iloc[train_index].reset_index(drop=True), y_train.iloc[train_index].reset_index(drop=True), \n",
    "         X_train.iloc[test_index].reset_index(drop=True), y_train.iloc[test_index].reset_index(drop=True))\n",
    "        for train_index, test_index in tqdm(skf.split(X_train, y_train), total=cv)\n",
    "    ]\n",
    "    \n",
    "    np.random.seed(random_state)\n",
    "    initial = 0\n",
    "\n",
    "    for iter in tqdm(range(iterations)):\n",
    "        params = {\n",
    "            'n_estimators': np.random.choice(np.arange(700, 1301, 50)),\n",
    "            'max_depth': np.random.choice(np.arange(5, 11, 1)),\n",
    "            'subsample': np.random.choice(np.arange(0.75, 1.0001, 0.05)),\n",
    "            'colsample_bylevel': np.random.choice(np.arange(0.8, 1.0001, 0.05)),\n",
    "            'random_state': random_state\n",
    "        }\n",
    "        \n",
    "        final_recall = []\n",
    "        for j in range(cv):\n",
    "            combine_indices = list(range(cv))\n",
    "            combine_indices.remove(j)\n",
    "            \n",
    "            X_new_train = pd.concat([folds[i][0] for i in combine_indices], axis=0).reset_index(drop=True)\n",
    "            y_new_train = np.concatenate([folds[i][1] for i in combine_indices])\n",
    "\n",
    "            X_new_train, num_features = preprocess_data(X_new_train, cat_features)\n",
    "            X_val, _ = preprocess_data(folds[j][2], cat_features)\n",
    "\n",
    "            recall_at_10 = train_and_evaluate_model(X_new_train, y_new_train, X_val, folds[j][3], cat_features, params)\n",
    "            final_recall.append(recall_at_10)\n",
    "        \n",
    "        recallat10 = np.mean(final_recall) if final_recall else 0\n",
    "        \n",
    "        if recallat10 > initial:\n",
    "            initial = recallat10\n",
    "            final_params = params\n",
    "    \n",
    "    print('최종 parameter은 :', final_params)\n",
    "    return initial\n",
    "\n",
    "# Example usage\n",
    "# initial = cross_validation(X_train, y_train, cv=5, iterations=10, random_state=42)\n"
   ]
  },
  {
   "cell_type": "markdown",
   "metadata": {},
   "source": [
    "여행지 별 방문자 수나 재방문 건수, 방문자 수 별 구간 화 변환\n",
    "방법, 재방문 건수 별 구간 화 변환 방법보다 방문자 수 및 재방문 건수\n",
    "가 모두 고려된 Matrix 방법이 가장 우수한 결과를 나타냈다.\n",
    "\n",
    "https://oasis.dcollection.net/public_resource/pdf/200000001484_20240803022912.pdf"
   ]
  },
  {
   "cell_type": "code",
   "execution_count": 43,
   "metadata": {},
   "outputs": [
    {
     "name": "stderr",
     "output_type": "stream",
     "text": [
      "100%|██████████| 5/5 [00:00<00:00, 81.51it/s]\n",
      "100%|██████████| 10/10 [1:26:53<00:00, 521.40s/it]"
     ]
    },
    {
     "name": "stdout",
     "output_type": "stream",
     "text": [
      "최종 parameter은 : {'n_estimators': 1050, 'max_depth': 9, 'subsample': 0.9500000000000002, 'colsample_bylevel': 0.8500000000000001, 'random_state': 42}\n",
      "time: 1h 26min 54s (started: 2024-08-03 02:14:37 +09:00)\n"
     ]
    },
    {
     "name": "stderr",
     "output_type": "stream",
     "text": [
      "\n"
     ]
    }
   ],
   "source": [
    "initial = cross_validation(X_train, y_train, cv=5, iterations=10, random_state=42)"
   ]
  },
  {
   "cell_type": "code",
   "execution_count": 44,
   "metadata": {},
   "outputs": [
    {
     "data": {
      "text/plain": [
       "0.008797947603480367"
      ]
     },
     "execution_count": 44,
     "metadata": {},
     "output_type": "execute_result"
    },
    {
     "name": "stdout",
     "output_type": "stream",
     "text": [
      "time: 0 ns (started: 2024-08-03 03:43:56 +09:00)\n"
     ]
    }
   ],
   "source": [
    "initial"
   ]
  },
  {
   "cell_type": "code",
   "execution_count": 45,
   "metadata": {},
   "outputs": [
    {
     "data": {
      "text/plain": [
       "['./catboost_model_params.pkl']"
      ]
     },
     "execution_count": 45,
     "metadata": {},
     "output_type": "execute_result"
    },
    {
     "name": "stdout",
     "output_type": "stream",
     "text": [
      "time: 16 ms (started: 2024-08-03 03:48:09 +09:00)\n"
     ]
    }
   ],
   "source": [
    "joblib.dump({'n_estimators': 1050, 'max_depth': 9, 'subsample': 0.9500000000000002, 'colsample_bylevel': 0.8500000000000001, 'random_state': 42}, os.path.join(path, 'catboost_model_params.pkl'))"
   ]
  },
  {
   "cell_type": "code",
   "execution_count": 50,
   "metadata": {},
   "outputs": [
    {
     "data": {
      "text/plain": [
       "{'loss_function': 'RMSE',\n",
       " 'subsample': 0.9500000000000002,\n",
       " 'max_depth': 9,\n",
       " 'n_estimators': 1050,\n",
       " 'colsample_bylevel': 0.8500000000000001,\n",
       " 'random_state': 42}"
      ]
     },
     "execution_count": 50,
     "metadata": {},
     "output_type": "execute_result"
    },
    {
     "name": "stdout",
     "output_type": "stream",
     "text": [
      "time: 0 ns (started: 2024-08-03 03:49:02 +09:00)\n"
     ]
    }
   ],
   "source": [
    "catboost_params = joblib.load(os.path.join(path, 'catboost_model_params.pkl'))\n",
    "modelc = CatBoostRegressor(**catboost_params)"
   ]
  },
  {
   "cell_type": "code",
   "execution_count": null,
   "metadata": {},
   "outputs": [],
   "source": []
  }
 ],
 "metadata": {
  "kernelspec": {
   "display_name": "winenv",
   "language": "python",
   "name": "python3"
  },
  "language_info": {
   "codemirror_mode": {
    "name": "ipython",
    "version": 3
   },
   "file_extension": ".py",
   "mimetype": "text/x-python",
   "name": "python",
   "nbconvert_exporter": "python",
   "pygments_lexer": "ipython3",
   "version": "3.12.4"
  }
 },
 "nbformat": 4,
 "nbformat_minor": 2
}
